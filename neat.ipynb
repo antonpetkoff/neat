{
 "cells": [
  {
   "cell_type": "code",
   "execution_count": 1,
   "metadata": {},
   "outputs": [],
   "source": [
    "# configuration parameters\n",
    "class Config:\n",
    "    def __init__(self):\n",
    "        self.POPULATION_SIZE = 1 # 150\n",
    "        self.INPUTS = 4\n",
    "        self.OUTPUTS = 1\n",
    "\n",
    "CONFIG = Config()"
   ]
  },
  {
   "cell_type": "code",
   "execution_count": 2,
   "metadata": {},
   "outputs": [],
   "source": [
    "# TODO: incoming_edge can be a list of innovation numbers\n",
    "\n",
    "NEURON_TYPES = [\"input\", \"output\", \"hidden\"]\n",
    "\n",
    "class Neuron:\n",
    "    NEURON_ID = 0\n",
    "    \n",
    "    def __init__(self, neuron_type = \"hidden\", incoming_edges = [], value = 0.0):\n",
    "        self.id = type(self).NEURON_ID\n",
    "        self.type = neuron_type\n",
    "        self.incoming_edges = incoming_edges\n",
    "        self.value = value\n",
    "        type(self).NEURON_ID += 1\n",
    "    \n",
    "    def reset(self):\n",
    "        self.value = 0.0\n",
    "    \n",
    "    def __repr__(self):\n",
    "        return str(self.__dict__)"
   ]
  },
  {
   "cell_type": "code",
   "execution_count": 3,
   "metadata": {},
   "outputs": [],
   "source": [
    "# Edge between 2 neurons\n",
    "\n",
    "class Gene:\n",
    "    INNOVATION_NUMBER = 0\n",
    "    \n",
    "    def __init__(self, input = 0, output = 0, weight = 0.0, enabled = True):\n",
    "        self.input = input\n",
    "        self.output = output\n",
    "        self.weight = weight\n",
    "        self.enabled = enabled\n",
    "        self.innovation = type(self).INNOVATION_NUMBER\n",
    "        type(self).INNOVATION_NUMBER += 1\n",
    "    \n",
    "    def __repr__(self):\n",
    "        return str(self.__dict__)"
   ]
  },
  {
   "cell_type": "code",
   "execution_count": 4,
   "metadata": {},
   "outputs": [],
   "source": [
    "from math import exp\n",
    "import numpy as np\n",
    "\n",
    "# from config.py import *\n",
    "\n",
    "# The neural network itself, consisting of neurons and edges (a.k.a genes)\n",
    "class Genome:\n",
    "    def __init__(self, neurons = [], genes = []):\n",
    "        self.neurons = neurons\n",
    "        self.genes = genes # list of edges\n",
    "        self.fitness = 0\n",
    "    \n",
    "    def __repr__(self):\n",
    "        return str(self.__dict__)\n",
    "    \n",
    "    @staticmethod\n",
    "    def generate():\n",
    "        input_neurons = [Neuron('input') for _ in range(CONFIG.INPUTS)]\n",
    "        output_neurons = [Neuron('output') for _ in range(CONFIG.OUTPUTS)]\n",
    "\n",
    "        neurons = input_neurons + output_neurons\n",
    "        \n",
    "        genes = [Gene(input=input_neuron_index, output=output_neuron_index, weight=np.random.randn())\n",
    "                 for input_neuron_index, _ in enumerate(input_neurons)\n",
    "                 for output_neuron_index, _ in enumerate(output_neurons)]\n",
    "        \n",
    "        for output_neuron_index, output_neuron in enumerate(output_neurons):\n",
    "            output_neuron.incoming_edges = [gene_index for gene_index, gene in enumerate(genes)\n",
    "                                            if gene.output == output_neuron_index]\n",
    "\n",
    "        # TODO: add random weights\n",
    "            \n",
    "        return Genome(neurons=neurons, genes=genes)\n",
    "    \n",
    "    @staticmethod\n",
    "    def sigmoid(x):\n",
    "#         return 2 / (1 + exp(-4.9 * x)) - 1\n",
    "        return 1 / (1 + exp(-4.9 * x))\n",
    "\n",
    "    def evaluate_neuron(self, neuron):\n",
    "        if neuron.value != 0.0:\n",
    "            return neuron.value\n",
    "        \n",
    "        neuron.value = sigmoid(sum(\n",
    "            [edge.weight * self.evaluate_neuron(edge.input)\n",
    "             for edge in neuron.incoming_edges]\n",
    "        ))\n",
    "        return neuron.value\n",
    "\n",
    "    def activate(self, input_values):\n",
    "        if len(input_values) != CONFIG.INPUTS:\n",
    "            raise Error(\"invalid inputs length of {}\".format(len(input_values)))\n",
    "        \n",
    "        for neuron in self.neurons:\n",
    "            neuron.reset()\n",
    "            \n",
    "        output_activations = []\n",
    "        pass"
   ]
  },
  {
   "cell_type": "code",
   "execution_count": 5,
   "metadata": {},
   "outputs": [],
   "source": [
    "class Population:\n",
    "    def __init__(self):\n",
    "        self.genomes = [Genome.generate() for _ in range(CONFIG.POPULATION_SIZE)]\n",
    "    \n",
    "    def __repr__(self):\n",
    "        return str(self.__dict__)"
   ]
  },
  {
   "cell_type": "code",
   "execution_count": 6,
   "metadata": {},
   "outputs": [
    {
     "data": {
      "text/plain": [
       "[{'neurons': [{'id': 0, 'type': 'input', 'incoming_edges': [], 'value': 0.0}, {'id': 1, 'type': 'input', 'incoming_edges': [], 'value': 0.0}, {'id': 2, 'type': 'input', 'incoming_edges': [], 'value': 0.0}, {'id': 3, 'type': 'input', 'incoming_edges': [], 'value': 0.0}, {'id': 4, 'type': 'output', 'incoming_edges': [0, 1, 2, 3], 'value': 0.0}], 'genes': [{'input': 0, 'output': 0, 'weight': 0.5898018410575844, 'enabled': True, 'innovation': 0}, {'input': 1, 'output': 0, 'weight': -0.22307084928931142, 'enabled': True, 'innovation': 1}, {'input': 2, 'output': 0, 'weight': -0.22629534647857297, 'enabled': True, 'innovation': 2}, {'input': 3, 'output': 0, 'weight': 0.29862102289599834, 'enabled': True, 'innovation': 3}], 'fitness': 0}]"
      ]
     },
     "execution_count": 6,
     "metadata": {},
     "output_type": "execute_result"
    }
   ],
   "source": [
    "population = Population()\n",
    "population\n",
    "\n",
    "population.genomes"
   ]
  },
  {
   "cell_type": "code",
   "execution_count": 7,
   "metadata": {},
   "outputs": [
    {
     "data": {
      "text/plain": [
       "1.211293335377499"
      ]
     },
     "execution_count": 7,
     "metadata": {},
     "output_type": "execute_result"
    }
   ],
   "source": [
    "import numpy as np\n",
    "n1 = Neuron('hidden', [], 1)\n",
    "n1.value\n",
    "\n",
    "np.random.randn()"
   ]
  }
 ],
 "metadata": {
  "kernelspec": {
   "display_name": "Python 3",
   "language": "python",
   "name": "python3"
  },
  "language_info": {
   "codemirror_mode": {
    "name": "ipython",
    "version": 3
   },
   "file_extension": ".py",
   "mimetype": "text/x-python",
   "name": "python",
   "nbconvert_exporter": "python",
   "pygments_lexer": "ipython3",
   "version": "3.6.3"
  }
 },
 "nbformat": 4,
 "nbformat_minor": 2
}
