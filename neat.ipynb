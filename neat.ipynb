{
 "cells": [
  {
   "cell_type": "code",
   "execution_count": 1,
   "metadata": {},
   "outputs": [],
   "source": [
    "# configuration parameters\n",
    "class Config:\n",
    "    def __init__(self):\n",
    "        self.POPULATION_SIZE = 1 # 150\n",
    "        self.INPUTS = 4\n",
    "        self.OUTPUTS = 2\n",
    "        \n",
    "        self.MUTATE_WEIGHTS_PROPORTION = 0.75\n",
    "\n",
    "CONFIG = Config()"
   ]
  },
  {
   "cell_type": "code",
   "execution_count": 2,
   "metadata": {},
   "outputs": [],
   "source": [
    "# TODO: incoming_edge can be a list of innovation numbers\n",
    "\n",
    "NEURON_TYPES = [\"input\", \"output\", \"hidden\"]\n",
    "\n",
    "class Neuron:\n",
    "    NEURON_ID = 0\n",
    "    \n",
    "    def __init__(self, neuron_type = \"hidden\", incoming_edges = [], value = 0.0):\n",
    "        self.id = type(self).NEURON_ID\n",
    "        self.type = neuron_type\n",
    "        self.incoming_edges = [] # TODO: if you use incoming_edges as an argument observe side effects in add_neuron\n",
    "        self.value = value\n",
    "        type(self).NEURON_ID += 1\n",
    "    \n",
    "    def reset(self):\n",
    "        self.value = 0.0\n",
    "    \n",
    "    def __repr__(self):\n",
    "        return str(self.__dict__)"
   ]
  },
  {
   "cell_type": "code",
   "execution_count": 3,
   "metadata": {},
   "outputs": [],
   "source": [
    "# Edge between 2 neurons\n",
    "\n",
    "import numpy as np\n",
    "\n",
    "class Gene:\n",
    "    INNOVATION_NUMBER = 0\n",
    "    \n",
    "    def __init__(self, input = 0, output = 0, weight = 0.0, enabled = True):\n",
    "        self.input = input\n",
    "        self.output = output\n",
    "        self.weight = weight\n",
    "        self.enabled = enabled\n",
    "        self.innovation = type(self).INNOVATION_NUMBER\n",
    "        type(self).INNOVATION_NUMBER += 1\n",
    "    \n",
    "    def __repr__(self):\n",
    "        return str(self.__dict__)\n",
    "    \n",
    "    def mutate(self, epsilon = 1.0):\n",
    "        self.weight = np.random.normal(self.weight, epsilon)"
   ]
  },
  {
   "cell_type": "code",
   "execution_count": 4,
   "metadata": {},
   "outputs": [],
   "source": [
    "from math import exp\n",
    "import numpy as np\n",
    "import pprint\n",
    "\n",
    "# from config.py import *\n",
    "\n",
    "# The neural network itself, consisting of neurons and edges (a.k.a genes)\n",
    "class Genome:\n",
    "    def __init__(self, neurons = [], genes = []):\n",
    "        self.neurons = neurons\n",
    "        self.genes = genes # list of edges\n",
    "        self.fitness = 0\n",
    "    \n",
    "    def __repr__(self):\n",
    "#         return str(self.__dict__)\n",
    "        return pprint.PrettyPrinter(indent=4).pformat(self.__dict__)\n",
    "    \n",
    "    @staticmethod\n",
    "    def generate():\n",
    "        input_neurons = [Neuron('input') for _ in range(CONFIG.INPUTS)]\n",
    "        output_neurons = [Neuron('output') for _ in range(CONFIG.OUTPUTS)]\n",
    "\n",
    "        neurons = input_neurons + output_neurons\n",
    "        \n",
    "        genes = [Gene(input=input_neuron_index, output=output_neuron_index, weight=np.random.randn())\n",
    "                 for input_neuron_index, _ in enumerate(input_neurons)\n",
    "                 for output_neuron_index, _ in enumerate(output_neurons)]\n",
    "        \n",
    "        for output_neuron_index, output_neuron in enumerate(output_neurons):\n",
    "            output_neuron.incoming_edges = [gene_index for gene_index, gene in enumerate(genes)\n",
    "                                            if gene.output == output_neuron_index]\n",
    "\n",
    "        # TODO: add random weights\n",
    "            \n",
    "        return Genome(neurons=neurons, genes=genes)\n",
    "    \n",
    "    @staticmethod\n",
    "    def sigmoid(x):\n",
    "#         return 2 / (1 + exp(-4.9 * x)) - 1\n",
    "        return 1 / (1 + exp(-4.9 * x))\n",
    "\n",
    "    def evaluate_neuron(self, neuron):\n",
    "        if neuron.value != 0.0:\n",
    "            return neuron.value\n",
    "        \n",
    "        neuron.value = self.sigmoid(sum(\n",
    "            [self.genes[edge_index].weight * self.evaluate_neuron(self.neurons[self.genes[edge_index].input])\n",
    "             for edge_index in neuron.incoming_edges\n",
    "             if self.genes[edge_index].enabled]\n",
    "        ))\n",
    "        return neuron.value\n",
    "\n",
    "    def activate(self, input_values):\n",
    "        if len(input_values) != CONFIG.INPUTS:\n",
    "            raise Error(\"invalid inputs length of {}\".format(len(input_values)))\n",
    "        \n",
    "        input_index = 0\n",
    "        for neuron in self.neurons:\n",
    "            if neuron.type == 'input':\n",
    "                neuron.value = input_values[input_index]\n",
    "                input_index += 1\n",
    "            else:\n",
    "                neuron.reset()\n",
    "        \n",
    "        output_activations = [self.evaluate_neuron(neuron)\n",
    "                              for neuron in self.neurons\n",
    "                              if neuron.type == 'output']\n",
    "        return output_activations\n",
    "    \n",
    "    def mutate_weights(self, proportion = CONFIG.MUTATE_WEIGHTS_PROPORTION):\n",
    "        selected_genes = np.random.choice(self.genes, int(np.floor(len(self.genes) * proportion)))\n",
    "        for gene in selected_genes:\n",
    "            gene.mutate()\n",
    "    \n",
    "    # Mutation which adds a new neuron on an existing link between 2 other neurons\n",
    "    def add_neuron(self):\n",
    "        # Get a random gene (connection)\n",
    "        gene = np.random.choice(self.genes)\n",
    "        \n",
    "        # take its input neuron\n",
    "        input_neuron = self.neurons[gene.input]\n",
    "        \n",
    "        # take its output neuron\n",
    "        output_neuron = self.neurons[gene.output]\n",
    "        \n",
    "        # create a new neuron\n",
    "        new_neuron_index = len(self.neurons)\n",
    "        new_neuron = Neuron()\n",
    "        self.neurons.append(new_neuron)\n",
    "        \n",
    "        assert(self.neurons[len(self.neurons) - 1].id == new_neuron.id)\n",
    "        \n",
    "        # create a link from input to new\n",
    "        link1_index = len(self.genes)\n",
    "        link1 = Gene(input=gene.input, output=new_neuron_index, weight=1)\n",
    "        self.genes.append(link1)\n",
    "        \n",
    "        # create a link from new to output\n",
    "        link2_index = len(self.genes)\n",
    "        link2 = Gene(input=new_neuron_index, output=gene.output, weight=gene.weight)\n",
    "        self.genes.append(link2)\n",
    "        \n",
    "        \n",
    "        print(\"new_neuron: {}\".format(new_neuron))\n",
    "        print(\"output_neuron: {}\".format(output_neuron))\n",
    "        \n",
    "        # connect everything\n",
    "        new_neuron.incoming_edges = [link1_index]\n",
    "        \n",
    "        print(\"new_neuron: {}\".format(new_neuron))\n",
    "        print(\"output_neuron: {}\".format(output_neuron))\n",
    "        \n",
    "        output_neuron.incoming_edges.append(link2_index)\n",
    "        \n",
    "        \n",
    "        print(\"new_neuron: {}\".format(new_neuron))\n",
    "        print(\"output_neuron: {}\".format(output_neuron))\n",
    "        \n",
    "        # disable link from input to output\n",
    "        gene.enabled = False"
   ]
  },
  {
   "cell_type": "code",
   "execution_count": 5,
   "metadata": {},
   "outputs": [],
   "source": [
    "class Population:\n",
    "    def __init__(self):\n",
    "        self.genomes = [Genome.generate() for _ in range(CONFIG.POPULATION_SIZE)]\n",
    "    \n",
    "    def __repr__(self):\n",
    "        return str(self.__dict__)"
   ]
  },
  {
   "cell_type": "code",
   "execution_count": 6,
   "metadata": {},
   "outputs": [
    {
     "data": {
      "text/plain": [
       "[0.9893017937154802, 0.0008203750305685823]"
      ]
     },
     "execution_count": 6,
     "metadata": {},
     "output_type": "execute_result"
    }
   ],
   "source": [
    "population = Population()\n",
    "\n",
    "genome = population.genomes[0]\n",
    "genome.activate([np.random.randn() for _ in range(CONFIG.INPUTS)])"
   ]
  },
  {
   "cell_type": "code",
   "execution_count": 7,
   "metadata": {},
   "outputs": [
    {
     "data": {
      "text/plain": [
       "{   'fitness': 0,\n",
       "    'genes': [   {'input': 0, 'output': 0, 'weight': -2.0326784441775385, 'enabled': True, 'innovation': 0},\n",
       "                 {'input': 0, 'output': 1, 'weight': 1.2586184134103355, 'enabled': True, 'innovation': 1},\n",
       "                 {'input': 1, 'output': 0, 'weight': -0.42482588960590434, 'enabled': True, 'innovation': 2},\n",
       "                 {'input': 1, 'output': 1, 'weight': -0.30397649165427026, 'enabled': True, 'innovation': 3},\n",
       "                 {'input': 2, 'output': 0, 'weight': 0.8679973822889612, 'enabled': True, 'innovation': 4},\n",
       "                 {'input': 2, 'output': 1, 'weight': -1.6791730455949787, 'enabled': True, 'innovation': 5},\n",
       "                 {'input': 3, 'output': 0, 'weight': -1.5067444799715797, 'enabled': True, 'innovation': 6},\n",
       "                 {'input': 3, 'output': 1, 'weight': 1.908663015302331, 'enabled': True, 'innovation': 7}],\n",
       "    'neurons': [   {'id': 0, 'type': 'input', 'incoming_edges': [], 'value': -0.7786216202358153},\n",
       "                   {'id': 1, 'type': 'input', 'incoming_edges': [], 'value': 0.5152464786998717},\n",
       "                   {'id': 2, 'type': 'input', 'incoming_edges': [], 'value': 1.4268349711388222},\n",
       "                   {'id': 3, 'type': 'input', 'incoming_edges': [], 'value': 0.8682080260294976},\n",
       "                   {'id': 4, 'type': 'output', 'incoming_edges': [0, 2, 4, 6], 'value': 0.9893017937154802},\n",
       "                   {'id': 5, 'type': 'output', 'incoming_edges': [1, 3, 5, 7], 'value': 0.0008203750305685823}]}"
      ]
     },
     "execution_count": 7,
     "metadata": {},
     "output_type": "execute_result"
    }
   ],
   "source": [
    "genome.mutate_weights()\n",
    "genome"
   ]
  },
  {
   "cell_type": "code",
   "execution_count": 17,
   "metadata": {},
   "outputs": [
    {
     "name": "stdout",
     "output_type": "stream",
     "text": [
      "new_neuron: {'id': 12, 'type': 'hidden', 'incoming_edges': [], 'value': 0.0}\n",
      "output_neuron: {'id': 10, 'type': 'hidden', 'incoming_edges': [16], 'value': 0.0}\n",
      "new_neuron: {'id': 12, 'type': 'hidden', 'incoming_edges': [20], 'value': 0.0}\n",
      "output_neuron: {'id': 10, 'type': 'hidden', 'incoming_edges': [16], 'value': 0.0}\n",
      "new_neuron: {'id': 12, 'type': 'hidden', 'incoming_edges': [20], 'value': 0.0}\n",
      "output_neuron: {'id': 10, 'type': 'hidden', 'incoming_edges': [16, 21], 'value': 0.0}\n"
     ]
    }
   ],
   "source": [
    "genome.add_neuron()"
   ]
  },
  {
   "cell_type": "code",
   "execution_count": 18,
   "metadata": {},
   "outputs": [
    {
     "data": {
      "text/plain": [
       "{   'fitness': 0,\n",
       "    'genes': [   {'input': 0, 'output': 0, 'weight': -2.0326784441775385, 'enabled': False, 'innovation': 0},\n",
       "                 {'input': 0, 'output': 1, 'weight': 1.2586184134103355, 'enabled': False, 'innovation': 1},\n",
       "                 {'input': 1, 'output': 0, 'weight': -0.42482588960590434, 'enabled': True, 'innovation': 2},\n",
       "                 {'input': 1, 'output': 1, 'weight': -0.30397649165427026, 'enabled': False, 'innovation': 3},\n",
       "                 {'input': 2, 'output': 0, 'weight': 0.8679973822889612, 'enabled': True, 'innovation': 4},\n",
       "                 {'input': 2, 'output': 1, 'weight': -1.6791730455949787, 'enabled': False, 'innovation': 5},\n",
       "                 {'input': 3, 'output': 0, 'weight': -1.5067444799715797, 'enabled': False, 'innovation': 6},\n",
       "                 {'input': 3, 'output': 1, 'weight': 1.908663015302331, 'enabled': True, 'innovation': 7},\n",
       "                 {'input': 3, 'output': 6, 'weight': 1, 'enabled': True, 'innovation': 8},\n",
       "                 {'input': 6, 'output': 0, 'weight': -1.5067444799715797, 'enabled': False, 'innovation': 9},\n",
       "                 {'input': 0, 'output': 7, 'weight': 1, 'enabled': True, 'innovation': 10},\n",
       "                 {'input': 7, 'output': 0, 'weight': -2.0326784441775385, 'enabled': True, 'innovation': 11},\n",
       "                 {'input': 2, 'output': 8, 'weight': 1, 'enabled': True, 'innovation': 12},\n",
       "                 {'input': 8, 'output': 1, 'weight': -1.6791730455949787, 'enabled': True, 'innovation': 13},\n",
       "                 {'input': 1, 'output': 9, 'weight': 1, 'enabled': True, 'innovation': 14},\n",
       "                 {'input': 9, 'output': 1, 'weight': -0.30397649165427026, 'enabled': True, 'innovation': 15},\n",
       "                 {'input': 0, 'output': 10, 'weight': 1, 'enabled': False, 'innovation': 16},\n",
       "                 {'input': 10, 'output': 1, 'weight': 1.2586184134103355, 'enabled': True, 'innovation': 17},\n",
       "                 {'input': 6, 'output': 11, 'weight': 1, 'enabled': True, 'innovation': 18},\n",
       "                 {'input': 11, 'output': 0, 'weight': -1.5067444799715797, 'enabled': True, 'innovation': 19},\n",
       "                 {'input': 0, 'output': 12, 'weight': 1, 'enabled': True, 'innovation': 20},\n",
       "                 {'input': 12, 'output': 10, 'weight': 1, 'enabled': True, 'innovation': 21}],\n",
       "    'neurons': [   {'id': 0, 'type': 'input', 'incoming_edges': [9, 11, 19], 'value': -0.7786216202358153},\n",
       "                   {'id': 1, 'type': 'input', 'incoming_edges': [13, 15, 17], 'value': 0.5152464786998717},\n",
       "                   {'id': 2, 'type': 'input', 'incoming_edges': [], 'value': 1.4268349711388222},\n",
       "                   {'id': 3, 'type': 'input', 'incoming_edges': [], 'value': 0.8682080260294976},\n",
       "                   {'id': 4, 'type': 'output', 'incoming_edges': [0, 2, 4, 6], 'value': 0.9893017937154802},\n",
       "                   {'id': 5, 'type': 'output', 'incoming_edges': [1, 3, 5, 7], 'value': 0.0008203750305685823},\n",
       "                   {'id': 6, 'type': 'hidden', 'incoming_edges': [8], 'value': 0.0},\n",
       "                   {'id': 7, 'type': 'hidden', 'incoming_edges': [10], 'value': 0.0},\n",
       "                   {'id': 8, 'type': 'hidden', 'incoming_edges': [12], 'value': 0.0},\n",
       "                   {'id': 9, 'type': 'hidden', 'incoming_edges': [14], 'value': 0.0},\n",
       "                   {'id': 10, 'type': 'hidden', 'incoming_edges': [16, 21], 'value': 0.0},\n",
       "                   {'id': 11, 'type': 'hidden', 'incoming_edges': [18], 'value': 0.0},\n",
       "                   {'id': 12, 'type': 'hidden', 'incoming_edges': [20], 'value': 0.0}]}"
      ]
     },
     "execution_count": 18,
     "metadata": {},
     "output_type": "execute_result"
    }
   ],
   "source": [
    "genome"
   ]
  },
  {
   "cell_type": "code",
   "execution_count": 10,
   "metadata": {},
   "outputs": [
    {
     "data": {
      "text/plain": [
       "array([3, 3])"
      ]
     },
     "execution_count": 10,
     "metadata": {},
     "output_type": "execute_result"
    }
   ],
   "source": [
    "import numpy as np\n",
    "# n1 = Neuron('hidden', [], 1)\n",
    "# n1.value\n",
    "\n",
    "np.random.normal(10, 1)\n",
    "np.random.choice([1, 2, 3], 2)"
   ]
  },
  {
   "cell_type": "code",
   "execution_count": 11,
   "metadata": {},
   "outputs": [
    {
     "ename": "IndentationError",
     "evalue": "unexpected indent (<ipython-input-11-af6b93074871>, line 8)",
     "output_type": "error",
     "traceback": [
      "\u001b[0;36m  File \u001b[0;32m\"<ipython-input-11-af6b93074871>\"\u001b[0;36m, line \u001b[0;32m8\u001b[0m\n\u001b[0;31m    observation = env.reset()\u001b[0m\n\u001b[0m    ^\u001b[0m\n\u001b[0;31mIndentationError\u001b[0m\u001b[0;31m:\u001b[0m unexpected indent\n"
     ]
    }
   ],
   "source": [
    "import gym\n",
    "import time\n",
    "env = gym.make('CartPole-v0')\n",
    "\n",
    "# print(gym.envs.registry.all())\n",
    "\n",
    "# for episode in range(2000):\n",
    "    observation = env.reset()\n",
    "    done = False\n",
    "    timestamp = 0\n",
    "\n",
    "    while not done:\n",
    "        timestamp = timestamp + 1\n",
    "        env.render()\n",
    "        #print(observation)\n",
    "        action = env.action_space.sample()\n",
    "        observation, reward, done, info = env.step(action)\n",
    "        #print(\"Reward: {}\".format(reward))\n",
    "        if done:\n",
    "            print(\"Episode finished after {} timestamps\".format(timestamp))\n",
    "    \n",
    "env.close()\n"
   ]
  },
  {
   "cell_type": "code",
   "execution_count": null,
   "metadata": {},
   "outputs": [],
   "source": []
  }
 ],
 "metadata": {
  "kernelspec": {
   "display_name": "Python 3",
   "language": "python",
   "name": "python3"
  },
  "language_info": {
   "codemirror_mode": {
    "name": "ipython",
    "version": 3
   },
   "file_extension": ".py",
   "mimetype": "text/x-python",
   "name": "python",
   "nbconvert_exporter": "python",
   "pygments_lexer": "ipython3",
   "version": "3.6.4"
  }
 },
 "nbformat": 4,
 "nbformat_minor": 2
}
