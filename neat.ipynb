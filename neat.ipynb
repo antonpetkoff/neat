{
 "cells": [
  {
   "cell_type": "code",
   "execution_count": 15,
   "metadata": {},
   "outputs": [],
   "source": [
    "# configuration parameters\n",
    "class Config:\n",
    "    def __init__(self):\n",
    "        self.POPULATION_SIZE = 1 # 150\n",
    "        self.INPUTS = 4\n",
    "        self.OUTPUTS = 2\n",
    "        \n",
    "        self.MUTATE_WEIGHTS_PROPORTION = 0.75\n",
    "\n",
    "CONFIG = Config()"
   ]
  },
  {
   "cell_type": "code",
   "execution_count": 2,
   "metadata": {},
   "outputs": [],
   "source": [
    "# TODO: incoming_edge can be a list of innovation numbers\n",
    "\n",
    "NEURON_TYPES = [\"input\", \"output\", \"hidden\"]\n",
    "\n",
    "class Neuron:\n",
    "    NEURON_ID = 0\n",
    "    \n",
    "    def __init__(self, neuron_type = \"hidden\", incoming_edges = [], value = 0.0):\n",
    "        self.id = type(self).NEURON_ID\n",
    "        self.type = neuron_type\n",
    "        self.incoming_edges = incoming_edges\n",
    "        self.value = value\n",
    "        type(self).NEURON_ID += 1\n",
    "    \n",
    "    def reset(self):\n",
    "        self.value = 0.0\n",
    "    \n",
    "    def __repr__(self):\n",
    "        return str(self.__dict__)"
   ]
  },
  {
   "cell_type": "code",
   "execution_count": 3,
   "metadata": {},
   "outputs": [],
   "source": [
    "# Edge between 2 neurons\n",
    "\n",
    "import numpy as np\n",
    "\n",
    "class Gene:\n",
    "    INNOVATION_NUMBER = 0\n",
    "    \n",
    "    def __init__(self, input = 0, output = 0, weight = 0.0, enabled = True):\n",
    "        self.input = input\n",
    "        self.output = output\n",
    "        self.weight = weight\n",
    "        self.enabled = enabled\n",
    "        self.innovation = type(self).INNOVATION_NUMBER\n",
    "        type(self).INNOVATION_NUMBER += 1\n",
    "    \n",
    "    def __repr__(self):\n",
    "        return str(self.__dict__)\n",
    "    \n",
    "    def mutate(self, epsilon = 1.0):\n",
    "        self.weight = np.random.normal(self.weight, epsilon)"
   ]
  },
  {
   "cell_type": "code",
   "execution_count": 39,
   "metadata": {},
   "outputs": [],
   "source": [
    "from math import exp\n",
    "import numpy as np\n",
    "\n",
    "# from config.py import *\n",
    "\n",
    "# The neural network itself, consisting of neurons and edges (a.k.a genes)\n",
    "class Genome:\n",
    "    def __init__(self, neurons = [], genes = []):\n",
    "        self.neurons = neurons\n",
    "        self.genes = genes # list of edges\n",
    "        self.fitness = 0\n",
    "    \n",
    "    def __repr__(self):\n",
    "        return str(self.__dict__)\n",
    "    \n",
    "    @staticmethod\n",
    "    def generate():\n",
    "        input_neurons = [Neuron('input') for _ in range(CONFIG.INPUTS)]\n",
    "        output_neurons = [Neuron('output') for _ in range(CONFIG.OUTPUTS)]\n",
    "\n",
    "        neurons = input_neurons + output_neurons\n",
    "        \n",
    "        genes = [Gene(input=input_neuron_index, output=output_neuron_index, weight=np.random.randn())\n",
    "                 for input_neuron_index, _ in enumerate(input_neurons)\n",
    "                 for output_neuron_index, _ in enumerate(output_neurons)]\n",
    "        \n",
    "        for output_neuron_index, output_neuron in enumerate(output_neurons):\n",
    "            output_neuron.incoming_edges = [gene_index for gene_index, gene in enumerate(genes)\n",
    "                                            if gene.output == output_neuron_index]\n",
    "\n",
    "        # TODO: add random weights\n",
    "            \n",
    "        return Genome(neurons=neurons, genes=genes)\n",
    "    \n",
    "    @staticmethod\n",
    "    def sigmoid(x):\n",
    "#         return 2 / (1 + exp(-4.9 * x)) - 1\n",
    "        return 1 / (1 + exp(-4.9 * x))\n",
    "\n",
    "    def evaluate_neuron(self, neuron):\n",
    "        if neuron.value != 0.0:\n",
    "            return neuron.value\n",
    "        \n",
    "        neuron.value = self.sigmoid(sum(\n",
    "            [self.genes[edge_index].weight * self.evaluate_neuron(self.neurons[self.genes[edge_index].input])\n",
    "             for edge_index in neuron.incoming_edges]\n",
    "        ))\n",
    "        return neuron.value\n",
    "\n",
    "    def activate(self, input_values):\n",
    "        if len(input_values) != CONFIG.INPUTS:\n",
    "            raise Error(\"invalid inputs length of {}\".format(len(input_values)))\n",
    "        \n",
    "        input_index = 0\n",
    "        for neuron in self.neurons:\n",
    "            if neuron.type == 'input':\n",
    "                neuron.value = input_values[input_index]\n",
    "                input_index += 1\n",
    "            else:\n",
    "                neuron.reset()\n",
    "        \n",
    "        output_activations = [self.evaluate_neuron(neuron)\n",
    "                              for neuron in self.neurons\n",
    "                              if neuron.type == 'output']\n",
    "        return output_activations\n",
    "    \n",
    "    def mutate_weights(self, proportion = CONFIG.MUTATE_WEIGHTS_PROPORTION):\n",
    "        selected_genes = np.random.choice(self.genes, int(np.floor(len(self.genes) * proportion)))\n",
    "        for gene in selected_genes:\n",
    "            gene.mutate()"
   ]
  },
  {
   "cell_type": "code",
   "execution_count": 40,
   "metadata": {},
   "outputs": [],
   "source": [
    "class Population:\n",
    "    def __init__(self):\n",
    "        self.genomes = [Genome.generate() for _ in range(CONFIG.POPULATION_SIZE)]\n",
    "    \n",
    "    def __repr__(self):\n",
    "        return str(self.__dict__)"
   ]
  },
  {
   "cell_type": "code",
   "execution_count": 41,
   "metadata": {},
   "outputs": [
    {
     "data": {
      "text/plain": [
       "[0.002600217986710342, 0.0001812125753949879]"
      ]
     },
     "execution_count": 41,
     "metadata": {},
     "output_type": "execute_result"
    }
   ],
   "source": [
    "population = Population()\n",
    "\n",
    "genome = population.genomes[0]\n",
    "genome.activate([np.random.randn() for _ in range(CONFIG.INPUTS)])"
   ]
  },
  {
   "cell_type": "code",
   "execution_count": 63,
   "metadata": {},
   "outputs": [
    {
     "name": "stdout",
     "output_type": "stream",
     "text": [
      "6.0\n"
     ]
    },
    {
     "data": {
      "text/plain": [
       "{'neurons': [{'id': 48, 'type': 'input', 'incoming_edges': [], 'value': -1.0908958192744849}, {'id': 49, 'type': 'input', 'incoming_edges': [], 'value': -0.32175756164110325}, {'id': 50, 'type': 'input', 'incoming_edges': [], 'value': 0.9552880138991096}, {'id': 51, 'type': 'input', 'incoming_edges': [], 'value': 0.1966267345033684}, {'id': 52, 'type': 'output', 'incoming_edges': [0, 2, 4, 6], 'value': 0.002600217986710342}, {'id': 53, 'type': 'output', 'incoming_edges': [1, 3, 5, 7], 'value': 0.0001812125753949879}], 'genes': [{'input': 0, 'output': 0, 'weight': -7.765421389783275, 'enabled': True, 'innovation': 64}, {'input': 0, 'output': 1, 'weight': -0.2801978765968958, 'enabled': True, 'innovation': 65}, {'input': 1, 'output': 0, 'weight': 1.4643156459505235, 'enabled': True, 'innovation': 66}, {'input': 1, 'output': 1, 'weight': 4.708486537379998, 'enabled': True, 'innovation': 67}, {'input': 2, 'output': 0, 'weight': -2.2194481550009937, 'enabled': True, 'innovation': 68}, {'input': 2, 'output': 1, 'weight': -4.708219975607795, 'enabled': True, 'innovation': 69}, {'input': 3, 'output': 0, 'weight': 5.595771134401597, 'enabled': True, 'innovation': 70}, {'input': 3, 'output': 1, 'weight': -2.447178938452938, 'enabled': True, 'innovation': 71}], 'fitness': 0}"
      ]
     },
     "execution_count": 63,
     "metadata": {},
     "output_type": "execute_result"
    }
   ],
   "source": [
    "genome.mutate_weights()\n",
    "genome"
   ]
  },
  {
   "cell_type": "code",
   "execution_count": 7,
   "metadata": {},
   "outputs": [
    {
     "data": {
      "text/plain": [
       "10.973959195795263"
      ]
     },
     "execution_count": 7,
     "metadata": {},
     "output_type": "execute_result"
    }
   ],
   "source": [
    "import numpy as np\n",
    "# n1 = Neuron('hidden', [], 1)\n",
    "# n1.value\n",
    "\n",
    "np.random.normal(10, 1)"
   ]
  },
  {
   "cell_type": "code",
   "execution_count": 8,
   "metadata": {},
   "outputs": [
    {
     "ename": "IndentationError",
     "evalue": "unexpected indent (<ipython-input-8-af6b93074871>, line 8)",
     "output_type": "error",
     "traceback": [
      "\u001b[0;36m  File \u001b[0;32m\"<ipython-input-8-af6b93074871>\"\u001b[0;36m, line \u001b[0;32m8\u001b[0m\n\u001b[0;31m    observation = env.reset()\u001b[0m\n\u001b[0m    ^\u001b[0m\n\u001b[0;31mIndentationError\u001b[0m\u001b[0;31m:\u001b[0m unexpected indent\n"
     ]
    }
   ],
   "source": [
    "import gym\n",
    "import time\n",
    "env = gym.make('CartPole-v0')\n",
    "\n",
    "# print(gym.envs.registry.all())\n",
    "\n",
    "# for episode in range(2000):\n",
    "    observation = env.reset()\n",
    "    done = False\n",
    "    timestamp = 0\n",
    "\n",
    "    while not done:\n",
    "        timestamp = timestamp + 1\n",
    "        env.render()\n",
    "        #print(observation)\n",
    "        action = env.action_space.sample()\n",
    "        observation, reward, done, info = env.step(action)\n",
    "        #print(\"Reward: {}\".format(reward))\n",
    "        if done:\n",
    "            print(\"Episode finished after {} timestamps\".format(timestamp))\n",
    "    \n",
    "env.close()\n"
   ]
  },
  {
   "cell_type": "code",
   "execution_count": null,
   "metadata": {},
   "outputs": [],
   "source": []
  }
 ],
 "metadata": {
  "kernelspec": {
   "display_name": "Python 3",
   "language": "python",
   "name": "python3"
  },
  "language_info": {
   "codemirror_mode": {
    "name": "ipython",
    "version": 3
   },
   "file_extension": ".py",
   "mimetype": "text/x-python",
   "name": "python",
   "nbconvert_exporter": "python",
   "pygments_lexer": "ipython3",
   "version": "3.6.4"
  }
 },
 "nbformat": 4,
 "nbformat_minor": 2
}
